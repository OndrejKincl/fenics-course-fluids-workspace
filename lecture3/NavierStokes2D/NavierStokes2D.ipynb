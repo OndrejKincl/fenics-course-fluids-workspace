{
 "cells": [
  {
   "cell_type": "markdown",
   "metadata": {},
   "source": [
    "# Navier Stokes - flow around cylinder"
   ]
  },
  {
   "cell_type": "markdown",
   "metadata": {},
   "source": [
    "## Formulation\n",
    "\n",
    "In this [benchmark example](https://wwwold.mathematik.tu-dortmund.de/~featflow/en/benchmarks/cfdbenchmarking/flow/dfg_benchmark3_re100.html) we will show how to compute the flow of a Newtonian fluid around a cylinder. Even though the inlet velocity profile is constant, the resulting velocity field may not be stationary. We will see a pattern called [Kármán vortex street](https://en.wikipedia.org/wiki/K%C3%A1rm%C3%A1n_vortex_street).\n",
    "\n",
    "The following figure shows the computational mesh used. \n",
    "![Mesh](fig/hron_turek_bench.png \"Mesh\")\n",
    "The strong formulation of the time dependent Navier Stokes equations for this problem is as follows\n",
    "\\begin{align}\n",
    "\\frac{\\partial\\mathbf{u}}{\\partial t} + \\mathbf{u}\\cdot\\nabla\\mathbf{u} + \\nabla p - \\nu\\Delta\\mathbf{u} &= 0\\quad\\text{in }\\,\\Omega\\times (0,T)\\\\\n",
    "\\nabla\\cdot\\mathbf{u}&=0\\quad\\text{in }\\,\\Omega\\times (0,T)\\\\\n",
    "\\mathbf{u}(t=0)&=\\mathbf{0}\\quad\\text{in }\\,\\Omega\\\\\n",
    "\\mathbf{u} &= \\mathbf{u}_{\\text{in}}\\quad\\text{on }\\,\\Gamma_{\\text{in}}\\times (0,T)\\\\\n",
    "\\mathbf{u} &= \\mathbf{0}\\quad\\text{on }\\,\\Gamma_{\\text{wall}}\\times (0,T)\\\\\n",
    "\\mathbf{u} &= \\mathbf{0}\\quad\\text{on }\\,\\Gamma_{\\text{cylinder}}\\times (0,T)\\\\\n",
    "(-p \\mathbb{I} + \\nu \\nabla \\mathbf{u}) \\mathbf{n} &= \\mathbf{0}\\quad\\text{on }\\,\\Gamma_{\\text{out}}\\times (0,T),\n",
    "\\end{align}\n",
    "where $\\mathbf{u}_{\\text{in}}$ is defined as \n",
    "$$\n",
    "\\mathbf{u}_{\\text{in}} = v_{\\text{avg}}\\begin{pmatrix}\n",
    "\\frac{4\\,y\\,(D-y)}{D^2}\\\\\n",
    "0\n",
    "\\end{pmatrix}\n",
    "$$\n",
    "\n",
    "Taking test functions $q$ and $\\mathbf{v}$ for pressure and velocity respectively, we multiply the first equation by $\\mathbf{v}$ and the second equation by $q$ and integrate over $\\Omega$. Then we use the integration by parts to obtain the weak formulation.\n",
    "\n",
    "$$\n",
    "\\int_\\Omega\\frac{\\partial\\mathbf{u}}{\\partial t}\\cdot\\mathbf{v}\\,\\text{d}x+\\int_\\Omega(\\mathbf{u}\\cdot\\nabla\\mathbf{u})\\cdot\\mathbf{v}\\,\\text{d}x+\\nu\\int_\\Omega\\nabla\\mathbf{u}\\cdot\\nabla\\mathbf{v}\\,\\text{d}x-\\int_\\Omega p\\,\\text{div}\\,\\mathbf{v}\\,\\text{d}x-\\int_\\Omega q\\,\\text{div}\\,\\mathbf{u}\\,\\text{d}x = 0\n",
    "$$\n",
    "\n",
    "Compared to the Stokes equations, the Navier Stokes equations include a convection term $\\int_\\Omega(\\mathbf{u}\\cdot\\nabla\\mathbf{u})\\cdot\\mathbf{v}\\,\\text{d}x$. Therefore, a nonlinear solver has to be used instead of a linear solver. \n",
    "\n",
    "Another new term is the time derivative $\\frac{\\partial \\mathbf{u}}{\\partial t}$ which we will treat using a Crank-Nicholson time stepping scheme.\n",
    "First we discretize the time derivative.\n",
    "\\begin{equation}\n",
    "\\frac{\\partial \\mathbf{u}}{\\partial t}(t) \\approx \\frac{\\mathbf{u}(t)-\\mathbf{u}(t-\\delta t)}{\\delta t}\n",
    "\\end{equation}\n",
    "In order to use the Crank-Nicolson scheme, we make a linear combination of explicit and implicit scheme using a factor $\\theta$ in part of the equation (here we use simpler notation $\\mathbf{u}^{i} = \\mathbf{u}(t)$, $\\mathbf{u}^{i-1} = \\mathbf{u}(t-\\delta t)$). Notice that the last two terms are not part of the linear combination since we need to use the implicit scheme on them to have stability.\n",
    "\\begin{equation}\n",
    "\\begin{split}\n",
    "\\int_\\Omega\\frac{\\mathbf{u}^i-\\mathbf{u}^{i-1}}{\\delta t}\\cdot\\mathbf{v}\\,\\text{d}x\\\\\n",
    "+\\theta\\left(\\int_\\Omega(\\mathbf{u}^i\\cdot\\nabla\\mathbf{u}^i)\\cdot\\mathbf{v}\\,\\text{d}x+\\nu\\int_\\Omega\\nabla\\mathbf{u}^i\\cdot\\nabla\\mathbf{v}\\,\\text{d}x\\right)\\\\+(1-\\theta)\\left(\\int_\\Omega(\\mathbf{u}^{i-1}\\cdot\\nabla\\mathbf{u}^{i-1})\\cdot\\mathbf{v}\\,\\text{d}x\\\\+\\nu\\int_\\Omega\\nabla\\mathbf{u}^{i-1}\\cdot\\nabla\\mathbf{v}\\,\\text{d}x\\right)\\\\\n",
    "-\\int_\\Omega p^i\\,\\text{div}\\,\\mathbf{v}\\,\\text{d}x-\\int_\\Omega q\\,\\text{div}\\,\\mathbf{u}^i\\,\\text{d}x = 0\n",
    "\\end{split}\n",
    "\\end{equation}"
   ]
  },
  {
   "cell_type": "markdown",
   "metadata": {},
   "source": [
    "## Implementation\n",
    "First, we need to import all neccessary packages."
   ]
  },
  {
   "cell_type": "code",
   "execution_count": 1,
   "metadata": {},
   "outputs": [],
   "source": [
    "import dolfin as df\n",
    "from time import time"
   ]
  },
  {
   "cell_type": "markdown",
   "metadata": {},
   "source": [
    "Then we read mesh and boundary markers from the file."
   ]
  },
  {
   "cell_type": "code",
   "execution_count": 12,
   "metadata": {},
   "outputs": [],
   "source": [
    "mesh = df.Mesh()\n",
    "\n",
    "# read mesh from hdf5 file\n",
    "\n",
    "# read boundary marks\n",
    "\n",
    "# save boundary marks as xdmf file; then, we can open it in ParaView\n"
   ]
  },
  {
   "cell_type": "markdown",
   "metadata": {},
   "source": [
    "Next, we define the function spaces V, P and create the mixed function space W. The [MINI](https://defelement.com/elements/mini.html) element is used in this example.\n",
    "\n",
    "<font size=\"4\"> <b> Task 1</b>: Finish implementation of MINI element. </font>"
   ]
  },
  {
   "cell_type": "code",
   "execution_count": 3,
   "metadata": {},
   "outputs": [],
   "source": [
    "dim = mesh.geometry().dim()\n",
    "U = ...\n",
    "B = ...\n",
    "P = ...\n",
    "V = df.VectorElement(df.NodalEnrichedElement(U, B))\n",
    "W = df.FunctionSpace(mesh, df.MixedElement([V, P]))"
   ]
  },
  {
   "cell_type": "markdown",
   "metadata": {},
   "source": [
    "Let us define some parameters and constants such are the average velocity at the inlet, kinematic viscosity, timestep size and time T."
   ]
  },
  {
   "cell_type": "code",
   "execution_count": 19,
   "metadata": {},
   "outputs": [],
   "source": [
    "velocity = 1.5\n",
    "nu = df.Constant(0.001)\n",
    "dt = 0.1\n",
    "t_end = 15"
   ]
  },
  {
   "cell_type": "markdown",
   "metadata": {},
   "source": [
    "Let us define the boundary conditions. The boundary markings are inlet: 1, outlet: 2, wall: 3, cylinder: 5. We prescribe zero vector on the wall and the cylinder using Dirichlet boundary conditions. Inlet velocity can be defined using an expression object.\n",
    "\n",
    "<font size=\"4\"> <b> Task 2</b>: Complete the expression for inlet velocity according to the formula above. </font>"
   ]
  },
  {
   "cell_type": "code",
   "execution_count": 5,
   "metadata": {},
   "outputs": [],
   "source": [
    "inlet_expression = ...\n",
    "bc_in = ...\n",
    "\n",
    "zero_vector = ...\n",
    "bc_walls = df.DirichletBC(W.sub(0), zero_vector, bndry, 3)\n",
    "bc_sphere = df.DirichletBC(W.sub(0), zero_vector, bndry, 5)\n",
    "\n",
    "bcs = ..."
   ]
  },
  {
   "cell_type": "markdown",
   "metadata": {},
   "source": [
    "Let's see the results for Stokes flow.\n",
    "\n",
    "<font size=\"4\"> <b> Task 2</b>: Run the code below (Stokes flow) for maximum inlet velocity=1.5 and/or 0.3 and visualize results in ParaView. </font>"
   ]
  },
  {
   "cell_type": "code",
   "execution_count": 20,
   "metadata": {},
   "outputs": [
    {
     "name": "stdout",
     "output_type": "stream",
     "text": [
      "ellapsed =  0.416898250579834 s\n"
     ]
    }
   ],
   "source": [
    "# Stokes example we did on Tuesday\n",
    "u, p = df.TrialFunctions(W)\n",
    "v, q = df.TestFunctions(W)\n",
    "F = nu*df.inner(df.grad(u), df.grad(v))*df.dx - p*df.div(v)*df.dx - q*df.div(u)*df.dx\n",
    "\n",
    "w = df.Function(W)\n",
    "problem = df.LinearVariationalProblem(df.lhs(F), df.rhs(F), w, bcs)\n",
    "solver = df.LinearVariationalSolver(problem)\n",
    "solver.parameters[\"linear_solver\"] = \"mumps\"\n",
    "\n",
    "tick = time()\n",
    "solver.solve()\n",
    "\n",
    "print(\"ellapsed = \", time() - tick, \"s\")\n",
    "\n",
    "ufile = df.XDMFFile(\"results_stokes/u.xdmf\")\n",
    "pfile = df.XDMFFile(\"results_stokes/p.xdmf\")\n",
    "u, p = w.split()\n",
    "u.rename(\"u\", \"velocity\")\n",
    "p.rename(\"p\", \"pressure\")\n",
    "ufile.write(u)\n",
    "pfile.write(p)"
   ]
  },
  {
   "cell_type": "markdown",
   "metadata": {},
   "source": [
    "Now we define the variational form for functions $\\mathbf{u}, p$ with help of test functions $\\mathbf{v}, q$ and functions $\\mathbf{u}_0, p_0$ representing the velocity and pressure fields from previous timestep.\n",
    "\n",
    "<font size=\"4\"> <b> Task 3</b>: Add time stepping to our variational formulation. </font>"
   ]
  },
  {
   "cell_type": "code",
   "execution_count": 6,
   "metadata": {},
   "outputs": [],
   "source": [
    "# define v and q as test functions\n",
    "\n",
    "# define w and split to u and p\n",
    "\n",
    "# do the same for w0 -> u0, p0\n",
    "\n",
    "# we will use the following definions to simplify the notation a bit\n",
    "# NOTE that we are still working with Stokes flow\n",
    "a = lambda u, v: nu*df.inner(df.grad(u), df.grad(v))*df.dx\n",
    "b = lambda q, v: q*df.div(v)*df.dx\n",
    "\n",
    "# define F0 and F1\n",
    "\n",
    "theta = df.Constant(0.5) # Crank–Nicolson scheme\n",
    "\n",
    "# define F\n",
    "\n",
    "# Jacobi matrix\n"
   ]
  },
  {
   "cell_type": "markdown",
   "metadata": {},
   "source": [
    "We create a nonlinear variational problem object using our variational form and a nonlinear variational solver. Optionally, we can set up some of the solver parameters such as absolute and relative tolerance for convergence."
   ]
  },
  {
   "cell_type": "code",
   "execution_count": 27,
   "metadata": {
    "scrolled": true
   },
   "outputs": [],
   "source": [
    "# define Nonlinear variational problem and solver and specify some parameters\n",
    "\n",
    "solver.parameters['newton_solver']['linear_solver'] = 'mumps'\n",
    "solver.parameters['newton_solver']['absolute_tolerance'] = 1e-12\n",
    "solver.parameters['newton_solver']['relative_tolerance'] = 1e-12"
   ]
  },
  {
   "cell_type": "markdown",
   "metadata": {},
   "source": [
    "Setup XDMF files to save results for viewing in Paraview."
   ]
  },
  {
   "cell_type": "code",
   "execution_count": 28,
   "metadata": {},
   "outputs": [],
   "source": [
    "ufile = df.XDMFFile(\"results/u.xdmf\")\n",
    "pfile = df.XDMFFile(\"results/p.xdmf\")\n",
    "ufile.parameters[\"flush_output\"] = True\n",
    "pfile.parameters[\"flush_output\"] = True"
   ]
  },
  {
   "cell_type": "markdown",
   "metadata": {},
   "source": [
    "Since we have time dependent problem, we need to solve the problem for each timestep using a loop. We start at time $t=0$, then for each timestep, we assign the previous solution $w$ to $w_0$ and solve for the new $w$. It is also a good idea to save the solution at each timestep into the XDMF file.\n",
    "\n",
    "<font size=\"4\"> <b> Task 4</b>: Run the simulation for velocity=0.3 and/or 1.5 for Stokes flow and compare results with the previous case. You can try different time stepping schemes. </font> Additional task: Can you calculate the difference between two velocity fields using ParaView?\n",
    "\n",
    "<font size=\"4\"> <b> Task 5</b>: Add the convective term into form 'a' (Navier-Stokes) and run the simulation for velocity=0.3 and 1.5. Which result show Kármán vortex street? </font>"
   ]
  },
  {
   "cell_type": "code",
   "execution_count": 30,
   "metadata": {},
   "outputs": [
    {
     "name": "stdout",
     "output_type": "stream",
     "text": [
      "t=0.10s\n",
      "t=0.20s\n",
      "t=0.30s\n",
      "t=0.40s\n",
      "t=0.50s\n",
      "t=0.60s\n",
      "t=0.70s\n",
      "t=0.80s\n",
      "t=0.90s\n",
      "t=1.00s\n",
      "t=1.10s\n",
      "t=1.20s\n",
      "t=1.30s\n",
      "t=1.40s\n",
      "t=1.50s\n",
      "t=1.60s\n",
      "t=1.70s\n",
      "t=1.80s\n",
      "t=1.90s\n",
      "t=2.00s\n",
      "t=2.10s\n",
      "t=2.20s\n",
      "t=2.30s\n",
      "t=2.40s\n",
      "t=2.50s\n",
      "t=2.60s\n",
      "t=2.70s\n",
      "t=2.80s\n",
      "t=2.90s\n",
      "t=3.00s\n",
      "t=3.10s\n",
      "t=3.20s\n",
      "t=3.30s\n",
      "t=3.40s\n",
      "t=3.50s\n",
      "t=3.60s\n",
      "t=3.70s\n",
      "t=3.80s\n",
      "t=3.90s\n",
      "t=4.00s\n",
      "t=4.10s\n",
      "t=4.20s\n",
      "t=4.30s\n",
      "t=4.40s\n",
      "t=4.50s\n",
      "t=4.60s\n",
      "t=4.70s\n",
      "t=4.80s\n",
      "t=4.90s\n",
      "t=5.00s\n",
      "t=5.10s\n",
      "t=5.20s\n",
      "t=5.30s\n",
      "t=5.40s\n",
      "t=5.50s\n",
      "t=5.60s\n",
      "t=5.70s\n",
      "t=5.80s\n",
      "t=5.90s\n",
      "t=6.00s\n",
      "t=6.10s\n",
      "t=6.20s\n",
      "t=6.30s\n",
      "t=6.40s\n",
      "t=6.50s\n",
      "t=6.60s\n",
      "t=6.70s\n",
      "t=6.80s\n",
      "t=6.90s\n",
      "t=7.00s\n",
      "t=7.10s\n",
      "t=7.20s\n",
      "t=7.30s\n",
      "t=7.40s\n",
      "t=7.50s\n",
      "t=7.60s\n",
      "t=7.70s\n",
      "t=7.80s\n",
      "t=7.90s\n",
      "t=8.00s\n",
      "t=8.10s\n",
      "t=8.20s\n",
      "t=8.30s\n",
      "t=8.40s\n",
      "t=8.50s\n",
      "t=8.60s\n",
      "t=8.70s\n",
      "t=8.80s\n",
      "t=8.90s\n",
      "t=9.00s\n",
      "t=9.10s\n",
      "t=9.20s\n",
      "t=9.30s\n",
      "t=9.40s\n",
      "t=9.50s\n",
      "t=9.60s\n",
      "t=9.70s\n",
      "t=9.80s\n",
      "t=9.90s\n",
      "t=10.00s\n",
      "t=10.10s\n",
      "t=10.20s\n",
      "t=10.30s\n",
      "t=10.40s\n",
      "t=10.50s\n",
      "t=10.60s\n",
      "t=10.70s\n",
      "t=10.80s\n",
      "t=10.90s\n",
      "t=11.00s\n",
      "t=11.10s\n",
      "t=11.20s\n",
      "t=11.30s\n",
      "t=11.40s\n",
      "t=11.50s\n",
      "t=11.60s\n",
      "t=11.70s\n",
      "t=11.80s\n",
      "t=11.90s\n",
      "t=12.00s\n",
      "t=12.10s\n",
      "t=12.20s\n",
      "t=12.30s\n",
      "t=12.40s\n",
      "t=12.50s\n",
      "t=12.60s\n",
      "t=12.70s\n",
      "t=12.80s\n",
      "t=12.90s\n",
      "t=13.00s\n",
      "t=13.10s\n",
      "t=13.20s\n",
      "t=13.30s\n",
      "t=13.40s\n",
      "t=13.50s\n",
      "t=13.60s\n",
      "t=13.70s\n",
      "t=13.80s\n",
      "t=13.90s\n",
      "t=14.00s\n",
      "t=14.10s\n",
      "t=14.20s\n",
      "t=14.30s\n",
      "t=14.40s\n",
      "t=14.50s\n",
      "t=14.60s\n",
      "t=14.70s\n",
      "t=14.80s\n",
      "t=14.90s\n",
      "t=15.00s\n",
      "t=15.10s\n",
      "ellapsed =  188.44460701942444 s\n"
     ]
    }
   ],
   "source": [
    "tick = time()\n",
    "t = 0.0\n",
    "(u, p) = w.split(deepcopy=True)\n",
    "u.rename(\"v\", \"velocity\")\n",
    "p.rename(\"p\", \"pressure\")\n",
    "df.assign(u, w.sub(0))\n",
    "df.assign(p, w.sub(1))\n",
    "ufile.write(u, t)\n",
    "pfile.write(p, t)\n",
    "while t < t_end:\n",
    "    w0.assign(w)\n",
    "    t += dt\n",
    "    print(\"t={:.1f}s\".format(t))\n",
    "    solver.solve()\n",
    "    df.assign(u, w.sub(0))\n",
    "    df.assign(p, w.sub(1))\n",
    "    ufile.write(u, t)\n",
    "    pfile.write(p, t)\n",
    "print(\"ellapsed = \", time() - tick, \"s\")"
   ]
  }
 ],
 "metadata": {
  "kernelspec": {
   "display_name": "Python 3",
   "language": "python",
   "name": "python3"
  },
  "language_info": {
   "codemirror_mode": {
    "name": "ipython",
    "version": 3
   },
   "file_extension": ".py",
   "mimetype": "text/x-python",
   "name": "python",
   "nbconvert_exporter": "python",
   "pygments_lexer": "ipython3",
   "version": "3.6.9"
  }
 },
 "nbformat": 4,
 "nbformat_minor": 5
}
