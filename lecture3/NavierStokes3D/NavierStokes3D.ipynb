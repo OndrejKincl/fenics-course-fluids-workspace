{
 "cells": [
  {
   "cell_type": "markdown",
   "metadata": {},
   "source": [
    "# Navier Stokes - blood flow simulation"
   ]
  },
  {
   "cell_type": "markdown",
   "metadata": {},
   "source": [
    "## Formulation\n",
    "\n",
    "In this example we present a bloodflow simulation in a 3D geometry. The setting is very similar to the previous example. However, we will demonstrate how to prescribe a time dependent expression as a Dirichlet boundary condition. The inlet velocity is prescribed as\n",
    "$$\n",
    "\\mathbf{u}_{\\text{in}} = v_{\\text{avg}}(t)\\begin{pmatrix}\n",
    "2\\,\\frac{R^2-r^2}{R^2}\\\\\n",
    "0\\\\\n",
    "0\n",
    "\\end{pmatrix},\n",
    "$$\n",
    "where $r$ is the distance of the given point from the center point of the inlet. The average velocity at the inlet is changing over time according to the following equation\n",
    "$$\n",
    "v_\\text{avg}(t) = 0.6\\max\\left(\\frac{t(0.3-t)}{0.15^2}, 0\\right)\n",
    "$$\n",
    "![Mesh](fig/aneurysm.png \"Mesh\")"
   ]
  },
  {
   "cell_type": "markdown",
   "metadata": {},
   "source": [
    "## Implementation\n",
    "Again, we need to import the neccessary packages."
   ]
  },
  {
   "cell_type": "code",
   "execution_count": 1,
   "metadata": {},
   "outputs": [],
   "source": [
    "import dolfin as df\n",
    "import numpy as np\n",
    "from time import time"
   ]
  },
  {
   "cell_type": "markdown",
   "metadata": {},
   "source": [
    "Next, we read the mesh from the file and create the boundary markings since ```.xml``` files do not include them. To do that, we create a mesh function and then loop over all the mesh facets and mark them in case they are a part of the desired boundary. We can save the marked mesh and open in ParaView."
   ]
  },
  {
   "cell_type": "code",
   "execution_count": 2,
   "metadata": {},
   "outputs": [],
   "source": [
    "mesh = df.Mesh(\"bifurcation.xml\")\n",
    "dim = mesh.topology().dim()\n",
    "bndry = df.MeshFunction(\"size_t\", mesh, dim-1, 0)\n",
    "mesh.init()\n",
    "\n",
    "points = [np.array([-0.9, 0.0, 0.0]), np.array([0.6, 0.0, 0.6]), np.array([0.6, 0.0, -0.6])]\n",
    "normals = [np.array([-1.0, 0.0, 0.0]), np.array([np.sqrt(2), 0.0, np.sqrt(2)]), np.array([np.sqrt(2), 0.0, -np.sqrt(2)])]\n",
    "for f in df.facets(mesh):\n",
    "    bndry[f] = 0\n",
    "    if f.exterior():\n",
    "        bndry[f] = 1\n",
    "        x = f.midpoint().array() #[:dim]\n",
    "        for mark, point, normal in zip([2,3,4], points, normals):\n",
    "            if abs(np.dot(x-point, normal)) <= 0.001:\n",
    "                bndry[f] = mark\n",
    "\n",
    "with df.XDMFFile(\"marked_mesh.xdmf\") as xdmf:\n",
    "    xdmf.write(bndry)"
   ]
  },
  {
   "cell_type": "markdown",
   "metadata": {},
   "source": [
    "<font size=\"4\"> <b>Task 1</b>: Visualize at the marked mesh using Paraview. Which marks are on the walls, inlet and outlets? </font>"
   ]
  },
  {
   "cell_type": "markdown",
   "metadata": {},
   "source": [
    "Now we need to define the function spaces for MINI element similarly as was done in the previous example.\n",
    "\n",
    "<font size=\"4\"> <b>Task 2</b>: Define MINI element function space (CG1 finite element space for pressure and CG1+Bubble for velocity). </font>"
   ]
  },
  {
   "cell_type": "code",
   "execution_count": 3,
   "metadata": {},
   "outputs": [],
   "source": [
    "# Define MINI element\n",
    "\n",
    "W = ..."
   ]
  },
  {
   "cell_type": "markdown",
   "metadata": {},
   "source": [
    "Let us define some parameters and constants such as density, dynamic viscosity, timestep size and time $T$. The density and dynamic viscosity of blood are approximately $\\rho=1.05\\,\\frac{\\text{g}}{\\text{cm}^3}$ and $\\mu = 0.04\\,\\text{P (Poise)} = 0.004\\,\\text{Pa⋅s}$. "
   ]
  },
  {
   "cell_type": "code",
   "execution_count": 4,
   "metadata": {},
   "outputs": [],
   "source": [
    "mu = df.Constant(0.04) # Poise\n",
    "rho = df.Constant(1.05) # g/cm^3\n",
    "dt = 0.01\n",
    "t_end = 0.35"
   ]
  },
  {
   "cell_type": "markdown",
   "metadata": {},
   "source": [
    "Then we can define the boundary conditions: no-slip on the wall and an expression at the inlet part of the boundary. Notice that the average inflow velocity is now prescribed using a function of time.\n",
    "\n",
    "<font size=\"4\">  <b>Task 3</b>: Complete the section where we specify boundary conditions (bcs). In particular, zero bc on the walls and define the inlet expression according to formulas above. </font>"
   ]
  },
  {
   "cell_type": "code",
   "execution_count": 5,
   "metadata": {},
   "outputs": [],
   "source": [
    "zero_vector = ...\n",
    "bc_walls = ...\n",
    "\n",
    "velocity = lambda t: ...\n",
    "inlet_expression = df.Expression((\"v * 2.0 * ... \", \"...\", \"...\"), ..., v=velocity(0.0), degree=2)\n",
    "bc_in = ...\n",
    "\n",
    "bcs = [bc_in, bc_walls]"
   ]
  },
  {
   "cell_type": "markdown",
   "metadata": {},
   "source": [
    "Then we can define the variational problem the same way as in the previous example."
   ]
  },
  {
   "cell_type": "markdown",
   "metadata": {},
   "source": [
    "<font size=\"4\"> <b>Task 4</b>: Add density into the variational form (since we no longer work with non-dimensional quantities!) </font>"
   ]
  },
  {
   "cell_type": "code",
   "execution_count": 6,
   "metadata": {},
   "outputs": [],
   "source": [
    "v, q = df.TestFunctions(W)\n",
    "w = df.Function(W)\n",
    "w0 = df.Function(W)\n",
    "u, p = df.split(w)\n",
    "u0, p0 = df.split(w0)\n",
    "\n",
    "a = lambda u, v: df.inner(df.grad(u)*u, v)*df.dx + mu*df.inner(df.grad(u), df.grad(v))*df.dx # add density\n",
    "b = lambda q, v: q*df.div(v)*df.dx\n",
    "\n",
    "F1 = a(u, v) - b(p, v) - b(q, u)\n",
    "F0 = a(u0, v) - b(p, v) - b(q, u)\n",
    "\n",
    "theta = df.Constant(1.0) # Backward Euler\n",
    "F = df.Constant(1.0/dt)*df.inner((u-u0), v)*df.dx + theta*F1 + (1-theta)*F0 # add density\n",
    "J = df.derivative(F,w)"
   ]
  },
  {
   "cell_type": "markdown",
   "metadata": {},
   "source": [
    "We set up the nonlinear variational problem and solver. Note that we decreased the tolerances in order to speed up the computation."
   ]
  },
  {
   "cell_type": "code",
   "execution_count": 7,
   "metadata": {},
   "outputs": [],
   "source": [
    "problem = df.NonlinearVariationalProblem(F, w, bcs, J)\n",
    "solver = df.NonlinearVariationalSolver(problem)\n",
    "solver.parameters['newton_solver']['linear_solver'] = 'mumps'\n",
    "solver.parameters['newton_solver']['absolute_tolerance'] = 1e-8\n",
    "solver.parameters['newton_solver']['relative_tolerance'] = 1e-6"
   ]
  },
  {
   "cell_type": "markdown",
   "metadata": {},
   "source": [
    "Setup XDMF files to save results for viewing in Paraview."
   ]
  },
  {
   "cell_type": "code",
   "execution_count": 8,
   "metadata": {},
   "outputs": [],
   "source": [
    "ufile = df.XDMFFile(\"results/u.xdmf\")\n",
    "pfile = df.XDMFFile(\"results/p.xdmf\")\n",
    "ufile.parameters[\"flush_output\"] = True\n",
    "pfile.parameters[\"flush_output\"] = True"
   ]
  },
  {
   "cell_type": "markdown",
   "metadata": {},
   "source": [
    "Again, we go over all the timesteps and solve for velocity and pressure at each of them using the solution from the previous timestep."
   ]
  },
  {
   "cell_type": "code",
   "execution_count": null,
   "metadata": {},
   "outputs": [],
   "source": [
    "tick = time()\n",
    "t = 0.0\n",
    "(u, p) = w.split(True)\n",
    "u.rename(\"v\", \"velocity\")\n",
    "p.rename(\"p\", \"pressure\")\n",
    "df.assign(u, w.sub(0))\n",
    "df.assign(p, w.sub(1))\n",
    "ufile.write(u, t)\n",
    "pfile.write(p, t)\n",
    "while t < t_end:\n",
    "    w0.assign(w)\n",
    "    t += dt\n",
    "    print(\"t={:.2f}s\".format(t))\n",
    "    inlet_expression.v = velocity(t)\n",
    "    solver.solve()\n",
    "    df.assign(u, w.sub(0))\n",
    "    df.assign(p, w.sub(1))\n",
    "    ufile.write(u, t)\n",
    "    pfile.write(p, t)\n",
    "print(\"ellapsed = \", time() - tick, \"s\")"
   ]
  },
  {
   "cell_type": "markdown",
   "metadata": {},
   "source": [
    "<font size=\"4\"> <b>Task 5</b>: Run the code and visualize velocity field in ParaView. First, generate a slice with y-normal to see the velocities inside the domain over time. Then, experiment with generating glyphs and streamlines. You can export the results as an animation! </font>"
   ]
  }
 ],
 "metadata": {
  "kernelspec": {
   "display_name": "Python 3",
   "language": "python",
   "name": "python3"
  },
  "language_info": {
   "codemirror_mode": {
    "name": "ipython",
    "version": 3
   },
   "file_extension": ".py",
   "mimetype": "text/x-python",
   "name": "python",
   "nbconvert_exporter": "python",
   "pygments_lexer": "ipython3",
   "version": "3.6.9"
  }
 },
 "nbformat": 4,
 "nbformat_minor": 5
}
