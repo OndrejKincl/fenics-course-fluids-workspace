{
 "cells": [
  {
   "cell_type": "markdown",
   "id": "9da99ad1",
   "metadata": {},
   "source": [
    "# Stokes flow between two plates\n",
    "***"
   ]
  },
  {
   "attachments": {},
   "cell_type": "markdown",
   "id": "57965573",
   "metadata": {},
   "source": [
    "## Introduction\n",
    "Stokes equations describe a Newtonian fluid for very small Reynolds number\n",
    "\n",
    "$$\\mathrm{Re} = \\frac{\\rho L_\\mathrm{char} U_\\mathrm{char}}{\\mu},$$\n",
    "\n",
    "where $L_\\mathrm{char}$ and $U_\\mathrm{char}$ are characteristic length and speed, $\\mu$ is dynamic viscosity and $\\rho$ is density. Stokes equations are suitable for mesoscopic problems and for fluids with high viscosity,  like syrups and molasses. The strong formulation of stationary and incompressible Stokes flow reads\n",
    "\n",
    "$$ \\nabla \\cdot \\mathbf{u} = 0 $$\n",
    "$$ -\\nabla p + \\mu \\Delta \\mathbf{u} = \\mathbf{0}.$$\n",
    "\n",
    "The system has unkowns $\\mathbf{u}$ (velocity) and $p$ (pressure). \n",
    "\n",
    "As an educational example, consider two-dimensional flow between two parallel plates separated by distance $2R$. At the inflow (left), there is a rather strange velocity profile described by a quintic polynomial\n",
    "\n",
    "$$ \\mathbf{u}(x,y) = \\frac{5}{8} \\left(1 - \\frac{y}{R} \\right) \\left( 1 + \\frac{y}{R} \\right)^4 \\, \\hat{\\mathbf{x}}, \\quad (x,y) \\in \\Gamma_\\mathrm{in}.$$\n",
    "\n",
    "Let there be no slip on the surface of plates (top and bottom)\n",
    "\n",
    "$$ \\mathbf{u}(x,y) = \\mathbf{0}, \\quad (x,y) \\in \\Gamma_\\mathrm{wall}$$\n",
    "\n",
    "and outlfow condition (right)\n",
    "\n",
    "$$ (-p \\mathbb{I} + \\mu \\nabla \\mathbf{u}) \\mathbf{n} = \\mathbf{0}, \\quad (x,y) \\in \\Gamma_\\mathrm{out}.$$\n",
    "\n",
    "What kind of velocity profile will be at the outflow?\n",
    "\n",
    "<div align=center>\n",
    "<img src=\"fig/plates.png\" width=\"300\"/>\n",
    "</div>"
   ]
  },
  {
   "cell_type": "markdown",
   "id": "10afd26e",
   "metadata": {},
   "source": [
    "## Weak formulation\n",
    "\n",
    "First, we multiply by a pair of test functions $\\mathbf{v}, q$ and integrate\n",
    "$$ \\int_\\Omega q \\nabla \\cdot \\mathbf{u} \\; \\mathrm{d}\\mathbf{x} = 0, $$\n",
    "$$ \\int_\\Omega (-\\mu \\Delta \\mathbf{u} + \\nabla p) \\cdot \\mathbf{v} \\; \\mathrm{d}\\mathbf{x} = 0. $$\n",
    "\n",
    "We impose that $\\mathbf{v}$ vanishes on both Dirichlet boundaries $\\Gamma_\\mathrm{in}$, $\\Gamma_\\mathrm{plates}$. In the next step, we integrate by parts in the second expression to remove second derivatives. By virtue of boundary conditions, no surface integrals appear in the process.\n",
    "\n",
    "$$ \\int_\\Omega q \\nabla \\cdot \\mathbf{u} \\; \\mathrm{d}\\mathbf{x} = 0, $$\n",
    "$$ \\int_\\Omega \\left( \\mu \\nabla \\mathbf{u} \\cdot \\nabla \\mathbf{v} - p \\nabla \\cdot \\mathbf{v} \\right) \\; \\mathrm{d}\\mathbf{x} = 0. $$\n",
    "\n",
    "The equations can be added together to obtain a nicely symmetrical form:\n",
    "\n",
    "$$ \\int_\\Omega \\left( \\mu \\nabla \\mathbf{u} \\cdot \\nabla \\mathbf{v} - p \\nabla \\cdot \\mathbf{v} - q \\nabla \\cdot \\mathbf{u} \\right) \\; \\mathrm{d}\\mathbf{x} = 0. $$\n",
    "\n",
    "Compared to the strong formulation (four scalar equations for every point of $\\Omega$) it may seem we lost information. However, this is not true because the functions $q, \\mathbf{v}$ were arbitrary (up to the bounary condition imposed and certain integrability assumptions). The finite element method samples $\\Omega$ into mesh and replaces $\\mathbf{u}, p, \\mathbf{v}, q$ with piece-wise polynomial approximations. This leads to a linear system of $N$ equations (for every degree of freedom that *test functions* $\\mathbf{v}, q$ have) and $N$ unknowns (for every degree of freedom that *trial functions* $\\mathbf{u}, p$ have).\n",
    "\n",
    "We know how to solve linear systems but calculating it on paper would be a nightmare. It is better to ask FEniCS to do the dirty job."
   ]
  },
  {
   "cell_type": "markdown",
   "id": "3be5959b",
   "metadata": {},
   "source": [
    "## FEniCS implementation"
   ]
  },
  {
   "cell_type": "markdown",
   "id": "b414b9f7",
   "metadata": {},
   "source": [
    "Import **dolfin** (FEniCS backend), **matplotlib.pyplot** (for plots), **numpy** (for arrays) and **time** (for benchmarking)."
   ]
  },
  {
   "cell_type": "code",
   "execution_count": null,
   "id": "fed90f77",
   "metadata": {},
   "outputs": [],
   "source": []
  },
  {
   "cell_type": "markdown",
   "id": "3a2bd314",
   "metadata": {},
   "source": [
    "Create mesh."
   ]
  },
  {
   "cell_type": "code",
   "execution_count": null,
   "id": "1e5c5ccb",
   "metadata": {
    "scrolled": true
   },
   "outputs": [],
   "source": []
  },
  {
   "cell_type": "markdown",
   "id": "bce609a8",
   "metadata": {},
   "source": [
    "Identify boundaries."
   ]
  },
  {
   "cell_type": "code",
   "execution_count": null,
   "id": "00772fbb",
   "metadata": {},
   "outputs": [],
   "source": []
  },
  {
   "cell_type": "markdown",
   "id": "2e555da1",
   "metadata": {},
   "source": [
    "Define mixed function space for pressure and velocity. (In this example, we will use Taylor-Hood elements, which are quadratic in velocity and linear in pressure. There is a deep reason for having extra degrees of freedom in velocity. Mixed spaces with identical finite elements for $u$ a $p$ usually fail as they do not satisfy [Babuška-Brezzi condition](https://en.wikipedia.org/wiki/Ladyzhenskaya%E2%80%93Babu%C5%A1ka%E2%80%93Brezzi_condition).)"
   ]
  },
  {
   "cell_type": "code",
   "execution_count": null,
   "id": "0ae9986f",
   "metadata": {},
   "outputs": [],
   "source": []
  },
  {
   "cell_type": "markdown",
   "id": "870e69de",
   "metadata": {},
   "source": [
    "Declare boundary conditions."
   ]
  },
  {
   "cell_type": "code",
   "execution_count": null,
   "id": "91688f51",
   "metadata": {},
   "outputs": [],
   "source": []
  },
  {
   "cell_type": "markdown",
   "id": "ea6b7bcd",
   "metadata": {},
   "source": [
    "Write variational formulation."
   ]
  },
  {
   "cell_type": "code",
   "execution_count": null,
   "id": "0a75922b",
   "metadata": {},
   "outputs": [],
   "source": []
  },
  {
   "attachments": {},
   "cell_type": "markdown",
   "id": "53f83c2b",
   "metadata": {},
   "source": [
    "Plot sparsity pattern of the linear system. (The matrix is symmetric and sparse like in Poisson problem. However, closer inspection reveals that some diagonal elements are zero. This indicates that the matrix cannot be positive-definite. In fact, it has both positive and negative eigenvalues.)"
   ]
  },
  {
   "cell_type": "code",
   "execution_count": null,
   "id": "07af2087",
   "metadata": {},
   "outputs": [],
   "source": []
  },
  {
   "cell_type": "markdown",
   "id": "3988c122",
   "metadata": {},
   "source": [
    "Solve the linear problem using *mumps* direct sparse linear solver."
   ]
  },
  {
   "cell_type": "code",
   "execution_count": null,
   "id": "468a7767",
   "metadata": {},
   "outputs": [],
   "source": []
  },
  {
   "cell_type": "markdown",
   "id": "e11b2cbc",
   "metadata": {},
   "source": [
    "Show results with pyplot."
   ]
  },
  {
   "cell_type": "code",
   "execution_count": null,
   "id": "555eb950",
   "metadata": {},
   "outputs": [],
   "source": []
  },
  {
   "cell_type": "markdown",
   "id": "81d7a6da",
   "metadata": {},
   "source": [
    "Plot velocity profile at the ouflow. Compare it to a parabolic profile (Poiseuille flow)."
   ]
  },
  {
   "cell_type": "code",
   "execution_count": null,
   "id": "e318192c",
   "metadata": {
    "scrolled": true
   },
   "outputs": [],
   "source": []
  },
  {
   "attachments": {},
   "cell_type": "markdown",
   "id": "3f3bddcf",
   "metadata": {},
   "source": [
    "## Exercises \n",
    "1) In the definition of `v_inflow`, why is there `5.0/8.0` and not `5/8`?\n",
    "2) Can we prevent the emergence of Poiseuille flow by making $\\mu$ very small or inflow speed very large?\n",
    "3) Can we use conjugate gradient method to solve the algebraic system?\n",
    "4) Try mixed elements other than Tayler-Hood from the list below. (Spoiler: the first  two will not work very well.)\n",
    "    * CG 1 for velocity, CG 1 for pressure\n",
    "    * CG 2 for velocity, CG 2 for pressure\n",
    "    * CG 2 for velocity, DG 0 for pressure (DG stands for Discontinuous Galerkin)\n",
    "    * CR 1 for velocity, DG 0 for pressure (CR stands for Crouzeix-Raviart)\n",
    "    * MINI element:\n",
    "        ```\n",
    "        Ev1 = df.FiniteElement(\"CG\", mesh.ufl_cell(), 1)\n",
    "        Ev2 = df.FiniteElement(\"Bubble\", mesh.ufl_cell(), mesh.geometry().dim()+1)\n",
    "        Ev = df.VectorElement(df.NodalEnrichedElement(Ev1, Ev2))\n",
    "        Ep = df.FiniteElement(\"CG\", mesh.ufl_cell(), 1)\n",
    "        ```\n",
    "5) Experiment with different inflow conditions and non-zero external forces."
   ]
  }
 ],
 "metadata": {
  "kernelspec": {
   "display_name": "Python 3 (ipykernel)",
   "language": "python",
   "name": "python3"
  },
  "language_info": {
   "codemirror_mode": {
    "name": "ipython",
    "version": 3
   },
   "file_extension": ".py",
   "mimetype": "text/x-python",
   "name": "python",
   "nbconvert_exporter": "python",
   "pygments_lexer": "ipython3",
   "version": "3.10.6"
  },
  "vscode": {
   "interpreter": {
    "hash": "916dbcbb3f70747c44a77c7bcd40155683ae19c65e1c03b4aa3499c5328201f1"
   }
  }
 },
 "nbformat": 4,
 "nbformat_minor": 5
}
