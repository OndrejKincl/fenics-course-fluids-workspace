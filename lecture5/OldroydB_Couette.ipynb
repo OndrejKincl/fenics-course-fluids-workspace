{
 "cells": [
  {
   "cell_type": "markdown",
   "id": "e601b878",
   "metadata": {},
   "source": [
    "# Viscoelastic Oldroyd-B model -- axi-symmetric Couette flow"
   ]
  },
  {
   "cell_type": "markdown",
   "id": "6552f774",
   "metadata": {},
   "source": [
    "## Introduction to viscoelastic Oldroyd-B model\n",
    "We deal with the viscoelastic Oldroyd-B model (Oldroyd, 1950). It is a model for material that exhibits both viscous and elastic behavior. For simplicity, we can imagine it in one dimension using the mechanical analogs: a linear spring and a linear dashpot, see the Figure below.<p>\n",
    "<div align=center>\n",
    "<img src=\"fig/spring-dashpot.png\" width=\"550\"/>\n",
    "</div>\n",
    "\n",
    "The linear spring represents an elastic material whose relation between the one-dimensional stress $\\sigma$ and one-dimensional strain $\\varepsilon$ reads\n",
    "\\begin{equation}\n",
    "\\sigma=G \\varepsilon,\n",
    "\\end{equation}\n",
    "where $G$ is the elastic modulus of the spring. The linear dashpot represents the Newtonian fluid with the relation\n",
    "\\begin{equation}\n",
    "\\sigma=\\mu\\dot{\\varepsilon},\n",
    "\\end{equation}\n",
    "where $\\mu$ is the fluid viscosity.\n",
    "\n",
    "Thus, if we assume that all points of the material are dashpots, we have a Newtonian fluid; if we assume that all points are springs, we obtain an elastic solid. In case of viscoelastic fluids we create a mixture of springs and dashpots. The Oldroyd mechanical analog consists of one spring and one dashpot connected to series (called Maxwell analog), and an additional dashpot that is attached in paralel, see the Figure below.<p>\n",
    "<div align=center>\n",
    "<img src=\"fig/Oldroyd-analog.png\" width=\"400\"/>\n",
    "</div>\n",
    "To get the relation between the total stres $\\sigma$ and the total strain $\\varepsilon$, we realize that\n",
    "\\begin{align}\n",
    "\\sigma&=\\sigma_{\\rm D_2} + \\sigma_{\\rm M},\\qquad&{\\rm and}&&\\qquad \\varepsilon&=\\varepsilon_{\\rm D_2}=\\varepsilon_{\\rm M},\\\\\n",
    "\\sigma_{\\rm M}&=\\sigma_{\\rm D_1}=\\sigma_{\\rm S},\\qquad&{\\rm and}&&\\qquad\\varepsilon_{\\rm M}&=\\varepsilon_{\\rm D_1}+\\varepsilon_{\\rm S}.\n",
    "\\end{align}\n",
    "By straightforward manipulation we get the relation for the Maxwell analog, i.e.\n",
    "\\begin{align}\n",
    "\\dot{\\varepsilon}_{\\rm M}&=\\dot{\\varepsilon}_{\\rm D_1}+\\dot{\\varepsilon}_{\\rm S}\\nonumber\\\\\n",
    "&=\\frac{\\sigma_{\\rm D_1}}{\\mu}+\\frac{\\dot{\\sigma}_{\\rm S}}{G}\\\\\n",
    "&=\\frac{\\sigma_{\\rm M}}{\\mu_1}+\\frac{\\dot{\\sigma}_{\\rm M}}{G},\\nonumber\n",
    "\\end{align}\n",
    "or we can write it a slightly different way\n",
    "\\begin{equation}\n",
    "\\dot{\\sigma}_{\\rm M}+\\frac{G}{\\mu_1}\\sigma_{\\rm M}=G\\dot{\\varepsilon}_{\\rm M}.\n",
    "\\end{equation}\n",
    "Then, the stress-strain relation for the Oldroyd one-dimensional analog simply reads\n",
    "\\begin{align}\n",
    "\\sigma=\\mu_2\\dot{\\varepsilon}+\\sigma_{\\rm M},\\\\\n",
    "\\dot{\\sigma}_{\\rm M}+\\frac{G}{\\mu_1}\\sigma_{\\rm M}&=G\\dot{\\varepsilon}_{\\rm M}.\n",
    "\\end{align}\n",
    "However, we obtained only the relation between the stress and strain in one dimension. The journey to a fully three-dimensional model is long and it is beyond the scope of this FEniCS tutorial. In short, in the fully three-dimensional Oldroyd-B model, the one-dimensional stress $\\sigma$ is replaced by the Cauchy stress $\\mathbb{T}$, $\\dot{\\varepsilon}$ by the symmetric part of the velocity gradient $\\mathbb{D}$ and the simple derivative by the objective upper-convected Oldroyd derivative that transforms correctly under the change of observer. The Cauchy stress tensor $\\mathbb{T}$ for the Oldroyd-B model reads\n",
    "\\begin{align}\n",
    "\\mathbb{T}&=-p\\mathbb{I}+2\\mu_2\\mathbb{D}+\\mathbb{A},\\\\\n",
    "\\frac{\\partial \\mathbb{A}}{\\partial t}+{\\bf v}\\cdot\\nabla\\mathbb{A}-(\\nabla{\\bf v})\\mathbb{A}-\\mathbb{A}(\\nabla{\\bf v})^{\\rm T}+\\frac{G}{\\mu_1}\\mathbb{A}&=2G\\mathbb{D}.\n",
    "\\end{align}\n",
    "\n",
    "Finally, the full set of governing equations for the Oldroyd-B model read\n",
    "\\begin{align}\n",
    "{\\rm div}\\,{\\bf v}&=0,\\\\\n",
    "\\rho\\left(\\frac{\\partial{\\bf v}}{\\partial t}+({\\bf v}\\cdot\\nabla){\\bf v}\\right)&={\\rm div}\\,\\mathbb{T},\\quad\n",
    "\\mathbb{T}=-p\\mathbb{I}+2\\mu_2\\mathbb{D}+\\mathbb{A},\\\\\n",
    "\\frac{\\partial \\mathbb{A}}{\\partial t}+{\\bf v}\\cdot\\nabla\\mathbb{A}-(\\nabla{\\bf v})\\mathbb{A}-\\mathbb{A}(\\nabla{\\bf v})^{\\rm T}+\\frac{G}{\\mu_1}\\mathbb{A}&=2G\\mathbb{D}.\n",
    "\\end{align}\n",
    "\n",
    "Very often, the equations are rewritten in the form where $\\mathbb{A}=G(\\mathbb{B}-\\mathbb{I})$. The model then transforms to\n",
    "\\begin{align}\n",
    "{\\rm div}\\,{\\bf v}&=0,\\\\\n",
    "\\rho\\left(\\frac{\\partial{\\bf v}}{\\partial t}+({\\bf v}\\cdot\\nabla){\\bf v}\\right)&={\\rm div}\\,\\mathbb{T},\\quad\n",
    "\\mathbb{T}=-p\\mathbb{I}+2\\mu_2\\mathbb{D}+G(\\mathbb{B}-\\mathbb{I}),\\\\\n",
    "\\frac{\\partial \\mathbb{B}}{\\partial t}+{\\bf v}\\cdot\\nabla\\mathbb{B}-(\\nabla{\\bf v})\\mathbb{B}-\\mathbb{B}(\\nabla{\\bf v})^{\\rm T}+\\frac{G}{\\mu_1}(\\mathbb{B}-\\mathbb{I})&=\\mathbb{O}.\n",
    "\\end{align}"
   ]
  },
  {
   "cell_type": "markdown",
   "id": "3d92a1d2",
   "metadata": {},
   "source": [
    "## Problem description\n",
    "\n",
    "We test our finite element implementation on a problem for which we have a non-trivial analytical solution -- the problem of axi-symmetric steady Couette flow. The domain $\\Omega$ is bordered with two concentric circles, radius of the inner one is 1 m, radius of\n",
    "the outer one is 2 m, the material flows inside these two circles and fully sticks to both boundaries. The inner circle is fixed and does not move, the outer one rotates with constant angular velocity $\\omega = 0.5$ rad s$^{-1}$, thus the fluid rotates with it. The problem is depicted in the Figure below.<p>\n",
    "<div align=center>\n",
    "<img src=\"fig/problem-Couette.png\" width=\"300\"/>\n",
    "</div>\n",
    "\n",
    "To obtain the analytical solution, we employ the polar coordinates, we assume that all unknowns $p, {\\bf v}, \\mathbb{B}$ depend only on the radial coordinate $r$ and the fluid flows only in the direction of rotation, i.e.\n",
    "\\begin{equation}\n",
    "{\\bf v}=(0, v_{\\varphi}(r)).\n",
    "\\end{equation}\n",
    "If we fix the pressure $p=0$ at the inner circle, the analytical solution reads\n",
    "\\begin{align}\n",
    "v_{\\varphi}&=\\frac23\\left(r-\\frac{1}{r}\\right),\\\\\n",
    "p&=\\frac{4\\rho}{9}\\left(\\frac{r^2}{2}-2\\ln r - \\frac{1}{2r^2}\\right)+\\frac{8}{9}\\left(\\frac{\\mu_1^2}{G r^4}-1\\right),\\\\\n",
    "B_{rr}&=1,\\quad B_{r\\varphi}=\\frac{4\\mu_1}{3G r^2},\\quad B_{\\varphi\\varphi}=1+\\frac{32\\mu_1^2}{9G^2 r^4}.\n",
    "\\end{align}"
   ]
  },
  {
   "cell_type": "markdown",
   "id": "2afee10d",
   "metadata": {},
   "source": [
    "## Weak formulation\n",
    "\n",
    "Since we are interested in the steady solution, we omit the time derivatives, test the corresponding equations by the test arbitrary functions $(q, {\\bf q}, \\mathbb{Q})$, integrate over $\\Omega$ and use the divergence theorem\n",
    "\\begin{align}\n",
    "&\\int_\\Omega \\mathrm{div}\\,\\mathbf{v} \\,  q\\; \\mathrm{d}\\mathbf{x} = 0,\\\\\n",
    "&\\int_\\Omega (\\rho\\mathbf{v}\\cdot\\nabla\\mathbf{v})\\cdot\\mathbf{q}\\; \\mathrm{d}\\mathbf{x} + \\int_\\Omega \\mathbb{T}\\cdot\\nabla\\mathbf{q}\\; \\mathrm{d}\\mathbf{x} = 0,\\\\\n",
    "&\\int_\\Omega \\left({\\bf v}\\cdot\\nabla\\mathbb{B}-(\\nabla{\\bf v})\\mathbb{B}-\\mathbb{B}(\\nabla{\\bf v})^{\\rm T}+\\frac{G}{\\mu_1}(\\mathbb{B}-\\mathbb{I})\\right)\\cdot\\mathbb{Q}=0,\n",
    "\\end{align}\n",
    "where\n",
    "\\begin{equation}\n",
    "\\mathbb{T}=-p\\mathbb{I}+2\\mu_2\\mathbb{D}+G(\\mathbb{B}-\\mathbb{I}).\n",
    "\\end{equation}\n",
    "\n",
    "Here, we imposed that $\\mathbf{v}$ vanishes on the Dirichlet boundaries $\\Gamma_\\mathrm{in}$, $\\Gamma_\\mathrm{out}$.\n",
    "\n",
    "This non-linear problem is now solved using the FEniCS and compared to the analytical solution."
   ]
  },
  {
   "cell_type": "markdown",
   "id": "ce0eb767",
   "metadata": {},
   "source": [
    "## FEniCS implementation"
   ]
  },
  {
   "cell_type": "markdown",
   "id": "341ee625",
   "metadata": {},
   "source": [
    "Import **dolfin** (FEniCS backend), **matplotlib.pyplot** (for plots), **numpy** (for arrays), **mshr** (for meshing) and **time** (for time benchmarking)."
   ]
  },
  {
   "cell_type": "code",
   "execution_count": null,
   "id": "edab3916",
   "metadata": {},
   "outputs": [],
   "source": []
  },
  {
   "cell_type": "markdown",
   "id": "34b4ab07",
   "metadata": {},
   "source": [
    "Create mesh."
   ]
  },
  {
   "cell_type": "code",
   "execution_count": null,
   "id": "9ef9e39b",
   "metadata": {
    "scrolled": true
   },
   "outputs": [],
   "source": []
  },
  {
   "cell_type": "markdown",
   "id": "16e188ec",
   "metadata": {},
   "source": [
    "Identify boundaries."
   ]
  },
  {
   "cell_type": "code",
   "execution_count": null,
   "id": "459e737f",
   "metadata": {},
   "outputs": [],
   "source": []
  },
  {
   "cell_type": "markdown",
   "id": "f0327255",
   "metadata": {},
   "source": [
    "Define mixed function space for pressure $p$, velocity $\\mathbf{v}$ and extra stress tensor $\\mathbb{B}$. In this example, we use inf-sup stable Taylor-Hood elements for velocity and pressure, which are quadratic in velocity and linear in pressure; and linear in extra stress tensor."
   ]
  },
  {
   "cell_type": "code",
   "execution_count": null,
   "id": "abaf713b",
   "metadata": {},
   "outputs": [],
   "source": []
  },
  {
   "cell_type": "markdown",
   "id": "ca265b43",
   "metadata": {},
   "source": [
    "Declare boundary conditions."
   ]
  },
  {
   "cell_type": "code",
   "execution_count": null,
   "id": "6c7881e2",
   "metadata": {},
   "outputs": [],
   "source": []
  },
  {
   "cell_type": "markdown",
   "id": "888b0f97",
   "metadata": {},
   "source": [
    "Write the weak form."
   ]
  },
  {
   "cell_type": "code",
   "execution_count": null,
   "id": "14c1f82c",
   "metadata": {},
   "outputs": [],
   "source": []
  },
  {
   "cell_type": "markdown",
   "id": "6339c0c4",
   "metadata": {},
   "source": [
    "Solve the non-linear problem using Newton solver."
   ]
  },
  {
   "cell_type": "code",
   "execution_count": null,
   "id": "5a6aef98",
   "metadata": {},
   "outputs": [],
   "source": []
  },
  {
   "cell_type": "markdown",
   "id": "8c53fd05",
   "metadata": {},
   "source": [
    "Solve the linear problem using *mumps* direct sparse linear solver."
   ]
  },
  {
   "cell_type": "code",
   "execution_count": null,
   "id": "e6b83524",
   "metadata": {},
   "outputs": [],
   "source": []
  },
  {
   "cell_type": "markdown",
   "id": "95b4d2ce",
   "metadata": {},
   "source": [
    "Show results with pyplot."
   ]
  },
  {
   "cell_type": "code",
   "execution_count": null,
   "id": "8390e1fc",
   "metadata": {},
   "outputs": [],
   "source": []
  },
  {
   "cell_type": "markdown",
   "id": "f1c7b081",
   "metadata": {},
   "source": [
    "Compare the numerical solution to the analytical solution."
   ]
  },
  {
   "cell_type": "code",
   "execution_count": null,
   "id": "178a26ba",
   "metadata": {
    "scrolled": true
   },
   "outputs": [],
   "source": [
    "'''\n",
    "X = np.linspace(R1, R2)\n",
    "\n",
    "V_num = [v(x, 0)[1] for x in X]\n",
    "V_anal = [(2.0/3.0)*(x - 1.0/x) for x in X]\n",
    "plt.plot(X, V_num, label='Numerical')\n",
    "plt.scatter(X, V_anal, label='Analytical', color='orange')\n",
    "plt.legend()\n",
    "plt.title('Velocity')\n",
    "plt.show()\n",
    "\n",
    "p_num = [p(x, 0) for x in X]\n",
    "p_anal = [(4.0/9.0)*((x**2)/2.0 - 2.0*np.log(x) - 1.0/(2.0*(x**2))) + (8.0/9.0)*(1.0/(x**4) - 1.0) for x in X]\n",
    "plt.plot(X, p_num, label='Numerical')\n",
    "plt.scatter(X, p_anal, label='Analytical', color='orange')\n",
    "plt.legend()\n",
    "plt.title('Pressure')\n",
    "plt.show()\n",
    "\n",
    "b11_num = [b11(x, 0) for x in X]\n",
    "b11_anal = [1.0 for x in X]\n",
    "plt.plot(X, b11_num, label='Numerical')\n",
    "plt.scatter(X, b11_anal, label='Analytical', color='orange')\n",
    "plt.legend()\n",
    "plt.title('Extra stress $B_{11}$')\n",
    "plt.show()\n",
    "\n",
    "b12_num = [b12(x, 0) for x in X]\n",
    "b12_anal = [4.0/(3.0*(x**2)) for x in X]\n",
    "plt.plot(X, b12_num, label='Numerical')\n",
    "plt.scatter(X, b12_anal, label='Analytical', color='orange')\n",
    "plt.legend()\n",
    "plt.title('Extra stress $B_{12}$')\n",
    "plt.show()\n",
    "\n",
    "b22_num = [b22(x, 0) for x in X]\n",
    "b22_anal = [1.0 + 32.0/(9.0*(x**4)) for x in X]\n",
    "plt.plot(X, b22_num, label='Numerical')\n",
    "plt.scatter(X, b22_anal, label='Analytical', color='orange')\n",
    "plt.legend()\n",
    "plt.title('Extra stress $B_{22}$')\n",
    "plt.show()\n",
    "'''"
   ]
  },
  {
   "cell_type": "markdown",
   "id": "86fa36c5",
   "metadata": {},
   "source": [
    "## Exercises \n",
    "1) Modify the problem using the Navier-Stokes equations. How does the velocity field change?\n",
    "2) Experiment with different material parameters, make the spring stiffer, check the ratio $G/\\mu_1$.\n",
    "3) Experiment with different angular velocities.\n",
    "4) Try different mixed elements, c.f. to lecture on Poiseuille flow with the Stokes.\n",
    "5) Derive the analytical solution in polar coordinates."
   ]
  }
 ],
 "metadata": {
  "kernelspec": {
   "display_name": "Python 3 (ipykernel)",
   "language": "python",
   "name": "python3"
  },
  "language_info": {
   "codemirror_mode": {
    "name": "ipython",
    "version": 3
   },
   "file_extension": ".py",
   "mimetype": "text/x-python",
   "name": "python",
   "nbconvert_exporter": "python",
   "pygments_lexer": "ipython3",
   "version": "3.10.6"
  },
  "vscode": {
   "interpreter": {
    "hash": "916dbcbb3f70747c44a77c7bcd40155683ae19c65e1c03b4aa3499c5328201f1"
   }
  }
 },
 "nbformat": 4,
 "nbformat_minor": 5
}
